{
 "cells": [
  {
   "cell_type": "code",
   "execution_count": 1,
   "id": "9004fa2a-562c-46ed-8851-29b1ac98eaf8",
   "metadata": {},
   "outputs": [
    {
     "name": "stdout",
     "output_type": "stream",
     "text": [
      "Requirement already satisfied: nltk in /opt/anaconda3/lib/python3.12/site-packages (3.8.1)\n",
      "Requirement already satisfied: click in /opt/anaconda3/lib/python3.12/site-packages (from nltk) (8.1.7)\n",
      "Requirement already satisfied: joblib in /opt/anaconda3/lib/python3.12/site-packages (from nltk) (1.4.2)\n",
      "Requirement already satisfied: regex>=2021.8.3 in /opt/anaconda3/lib/python3.12/site-packages (from nltk) (2023.10.3)\n",
      "Requirement already satisfied: tqdm in /opt/anaconda3/lib/python3.12/site-packages (from nltk) (4.66.4)\n"
     ]
    }
   ],
   "source": [
    "!pip install nltk"
   ]
  },
  {
   "cell_type": "code",
   "execution_count": 2,
   "id": "d909a8b1-70d7-4242-9df2-ea2e7a303672",
   "metadata": {},
   "outputs": [],
   "source": [
    "corpus = \"\"\"A leading software development company at the forefront of innovation and technology. \n",
    "With a passion for creating seamless digital experiences, we specialize in a diverse range of services, \n",
    "including frontend and backend development, mobile app development, and cutting-edge embedded systems solutions.\n",
    "\"\"\""
   ]
  },
  {
   "cell_type": "code",
   "execution_count": 3,
   "id": "1fed9db0-2cb4-4065-98ec-5f2c33722dda",
   "metadata": {},
   "outputs": [
    {
     "data": {
      "text/plain": [
       "'A leading software development company at the forefront of innovation and technology. \\nWith a passion for creating seamless digital experiences, we specialize in a diverse range of services, \\nincluding frontend and backend development, mobile app development, and cutting-edge embedded systems solutions.\\n'"
      ]
     },
     "execution_count": 3,
     "metadata": {},
     "output_type": "execute_result"
    }
   ],
   "source": [
    "corpus"
   ]
  },
  {
   "cell_type": "code",
   "execution_count": 6,
   "id": "c70ea169-9745-423b-884c-fa62855eb86e",
   "metadata": {},
   "outputs": [],
   "source": [
    "from nltk.tokenize import sent_tokenize"
   ]
  },
  {
   "cell_type": "code",
   "execution_count": 9,
   "id": "01007eb4-f1b9-4b44-b780-fd037ea3c1fe",
   "metadata": {},
   "outputs": [
    {
     "name": "stdout",
     "output_type": "stream",
     "text": [
      "['A leading software development company at the forefront of innovation and technology.', 'With a passion for creating seamless digital experiences, we specialize in a diverse range of services, \\nincluding frontend and backend development, mobile app development, and cutting-edge embedded systems solutions.']\n"
     ]
    }
   ],
   "source": [
    "documents = sent_tokenize(corpus)\n",
    "print(words)"
   ]
  },
  {
   "cell_type": "code",
   "execution_count": 10,
   "id": "23a81ebb-b644-42d5-8650-fe7331d6878f",
   "metadata": {},
   "outputs": [
    {
     "name": "stdout",
     "output_type": "stream",
     "text": [
      "A leading software development company at the forefront of innovation and technology.\n",
      "With a passion for creating seamless digital experiences, we specialize in a diverse range of services, \n",
      "including frontend and backend development, mobile app development, and cutting-edge embedded systems solutions.\n"
     ]
    }
   ],
   "source": [
    "for sentence in documents:\n",
    "    print(sentence)"
   ]
  },
  {
   "cell_type": "code",
   "execution_count": 11,
   "id": "b178cd7d-34b6-4ec2-ab05-0352717a38e3",
   "metadata": {},
   "outputs": [],
   "source": [
    "# Tokenization\n",
    "#Para -> words\n",
    "#Sentence -> words"
   ]
  },
  {
   "cell_type": "code",
   "execution_count": 12,
   "id": "f2ba5c15-1e38-4dcf-9b3d-150bf16ca6b5",
   "metadata": {},
   "outputs": [],
   "source": [
    "from nltk.tokenize import word_tokenize"
   ]
  },
  {
   "cell_type": "code",
   "execution_count": 13,
   "id": "e99f1c2e-82ba-4294-850d-f6aee042bc1e",
   "metadata": {},
   "outputs": [
    {
     "data": {
      "text/plain": [
       "['A',\n",
       " 'leading',\n",
       " 'software',\n",
       " 'development',\n",
       " 'company',\n",
       " 'at',\n",
       " 'the',\n",
       " 'forefront',\n",
       " 'of',\n",
       " 'innovation',\n",
       " 'and',\n",
       " 'technology',\n",
       " '.',\n",
       " 'With',\n",
       " 'a',\n",
       " 'passion',\n",
       " 'for',\n",
       " 'creating',\n",
       " 'seamless',\n",
       " 'digital',\n",
       " 'experiences',\n",
       " ',',\n",
       " 'we',\n",
       " 'specialize',\n",
       " 'in',\n",
       " 'a',\n",
       " 'diverse',\n",
       " 'range',\n",
       " 'of',\n",
       " 'services',\n",
       " ',',\n",
       " 'including',\n",
       " 'frontend',\n",
       " 'and',\n",
       " 'backend',\n",
       " 'development',\n",
       " ',',\n",
       " 'mobile',\n",
       " 'app',\n",
       " 'development',\n",
       " ',',\n",
       " 'and',\n",
       " 'cutting-edge',\n",
       " 'embedded',\n",
       " 'systems',\n",
       " 'solutions',\n",
       " '.']"
      ]
     },
     "execution_count": 13,
     "metadata": {},
     "output_type": "execute_result"
    }
   ],
   "source": [
    "word_tokenize(corpus)"
   ]
  },
  {
   "cell_type": "code",
   "execution_count": 14,
   "id": "b15ab6ef-70f6-4448-912b-f138c8803e40",
   "metadata": {},
   "outputs": [
    {
     "name": "stdout",
     "output_type": "stream",
     "text": [
      "['A', 'leading', 'software', 'development', 'company', 'at', 'the', 'forefront', 'of', 'innovation', 'and', 'technology', '.']\n",
      "['With', 'a', 'passion', 'for', 'creating', 'seamless', 'digital', 'experiences', ',', 'we', 'specialize', 'in', 'a', 'diverse', 'range', 'of', 'services', ',', 'including', 'frontend', 'and', 'backend', 'development', ',', 'mobile', 'app', 'development', ',', 'and', 'cutting-edge', 'embedded', 'systems', 'solutions', '.']\n"
     ]
    }
   ],
   "source": [
    "for sentence in documents:\n",
    "    print(word_tokenize(sentence))"
   ]
  },
  {
   "cell_type": "code",
   "execution_count": 18,
   "id": "a73cec9f-1947-4d41-8762-a55b6aaa8652",
   "metadata": {},
   "outputs": [],
   "source": [
    "#seperate Punctuation marks\n",
    "from nltk.tokenize import wordpunct_tokenize"
   ]
  },
  {
   "cell_type": "code",
   "execution_count": 19,
   "id": "ca3c3bff-5ff2-4eab-8e39-fdd813df4b41",
   "metadata": {},
   "outputs": [
    {
     "name": "stdout",
     "output_type": "stream",
     "text": [
      "['A', 'leading', 'software', 'development', 'company', 'at', 'the', 'forefront', 'of', 'innovation', 'and', 'technology', '.']\n",
      "['With', 'a', 'passion', 'for', 'creating', 'seamless', 'digital', 'experiences', ',', 'we', 'specialize', 'in', 'a', 'diverse', 'range', 'of', 'services', ',', 'including', 'frontend', 'and', 'backend', 'development', ',', 'mobile', 'app', 'development', ',', 'and', 'cutting', '-', 'edge', 'embedded', 'systems', 'solutions', '.']\n"
     ]
    }
   ],
   "source": [
    "for sentence in documents:\n",
    "    print(wordpunct_tokenize(sentence))"
   ]
  },
  {
   "cell_type": "code",
   "execution_count": 23,
   "id": "11f66077-d711-491f-a150-905dd3af4009",
   "metadata": {},
   "outputs": [
    {
     "data": {
      "text/plain": [
       "['A',\n",
       " 'leading',\n",
       " 'software',\n",
       " 'development',\n",
       " 'company',\n",
       " 'at',\n",
       " 'the',\n",
       " 'forefront',\n",
       " 'of',\n",
       " 'innovation',\n",
       " 'and',\n",
       " 'technology.',\n",
       " 'With',\n",
       " 'a',\n",
       " 'passion',\n",
       " 'for',\n",
       " 'creating',\n",
       " 'seamless',\n",
       " 'digital',\n",
       " 'experiences',\n",
       " ',',\n",
       " 'we',\n",
       " 'specialize',\n",
       " 'in',\n",
       " 'a',\n",
       " 'diverse',\n",
       " 'range',\n",
       " 'of',\n",
       " 'services',\n",
       " ',',\n",
       " 'including',\n",
       " 'frontend',\n",
       " 'and',\n",
       " 'backend',\n",
       " 'development',\n",
       " ',',\n",
       " 'mobile',\n",
       " 'app',\n",
       " 'development',\n",
       " ',',\n",
       " 'and',\n",
       " 'cutting-edge',\n",
       " 'embedded',\n",
       " 'systems',\n",
       " 'solutions',\n",
       " '.']"
      ]
     },
     "execution_count": 23,
     "metadata": {},
     "output_type": "execute_result"
    }
   ],
   "source": [
    "from nltk.tokenize import TreebankWordTokenizer\n",
    "\n",
    "tokenizer = TreebankWordTokenizer()\n",
    "\n",
    "tokenizer.tokenize(corpus)"
   ]
  },
  {
   "cell_type": "code",
   "execution_count": null,
   "id": "9abc26e9-8326-4fbe-afe9-8bf684179064",
   "metadata": {},
   "outputs": [],
   "source": []
  }
 ],
 "metadata": {
  "kernelspec": {
   "display_name": "Python 3 (ipykernel)",
   "language": "python",
   "name": "python3"
  },
  "language_info": {
   "codemirror_mode": {
    "name": "ipython",
    "version": 3
   },
   "file_extension": ".py",
   "mimetype": "text/x-python",
   "name": "python",
   "nbconvert_exporter": "python",
   "pygments_lexer": "ipython3",
   "version": "3.12.7"
  }
 },
 "nbformat": 4,
 "nbformat_minor": 5
}
