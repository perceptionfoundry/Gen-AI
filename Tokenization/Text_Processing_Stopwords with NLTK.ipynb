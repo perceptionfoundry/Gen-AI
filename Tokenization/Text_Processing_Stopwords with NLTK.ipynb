{
 "cells": [
  {
   "cell_type": "code",
   "execution_count": 1,
   "id": "a0ef9dda-0798-488f-ba1e-252046a1b346",
   "metadata": {},
   "outputs": [
    {
     "name": "stdout",
     "output_type": "stream",
     "text": [
      "Requirement already satisfied: nltk in /opt/anaconda3/lib/python3.12/site-packages (3.8.1)\n",
      "Requirement already satisfied: click in /opt/anaconda3/lib/python3.12/site-packages (from nltk) (8.1.7)\n",
      "Requirement already satisfied: joblib in /opt/anaconda3/lib/python3.12/site-packages (from nltk) (1.4.2)\n",
      "Requirement already satisfied: regex>=2021.8.3 in /opt/anaconda3/lib/python3.12/site-packages (from nltk) (2023.10.3)\n",
      "Requirement already satisfied: tqdm in /opt/anaconda3/lib/python3.12/site-packages (from nltk) (4.66.4)\n",
      "Note: you may need to restart the kernel to use updated packages.\n"
     ]
    }
   ],
   "source": [
    "# pip install nltk"
   ]
  },
  {
   "cell_type": "code",
   "execution_count": 1,
   "id": "cf7f4a65-f97f-451c-8ef5-f7f723caadb9",
   "metadata": {},
   "outputs": [],
   "source": [
    "corpus = \"\"\"A leading software development company at the forefront of innovation and technology. \n",
    "With a passion for creating seamless digital experiences, we specialize in a diverse range of services, including frontend and backend development, \n",
    "mobile app development, and cutting-edge embedded systems solutions.\n",
    "\"\"\""
   ]
  },
  {
   "cell_type": "code",
   "execution_count": 3,
   "id": "0d942b5c-2986-47fc-8e3a-096f92852a02",
   "metadata": {},
   "outputs": [],
   "source": [
    "from nltk.tokenize import sent_tokenize"
   ]
  },
  {
   "cell_type": "code",
   "execution_count": 4,
   "id": "bf452f00-718b-42f5-a76f-38c0ca853f6c",
   "metadata": {},
   "outputs": [
    {
     "data": {
      "text/plain": [
       "['A leading software development company at the forefront of innovation and technology.',\n",
       " 'With a passion for creating seamless digital experiences, we specialize in a diverse range of services, including frontend and backend development, \\nmobile app development, and cutting-edge embedded systems solutions.']"
      ]
     },
     "execution_count": 4,
     "metadata": {},
     "output_type": "execute_result"
    }
   ],
   "source": [
    "sent_tokenize(corpus)"
   ]
  },
  {
   "cell_type": "code",
   "execution_count": null,
   "id": "df0d7d72-2b60-4b49-8559-1f20c2f0d2cc",
   "metadata": {},
   "outputs": [],
   "source": []
  }
 ],
 "metadata": {
  "kernelspec": {
   "display_name": "Python 3 (ipykernel)",
   "language": "python",
   "name": "python3"
  },
  "language_info": {
   "codemirror_mode": {
    "name": "ipython",
    "version": 3
   },
   "file_extension": ".py",
   "mimetype": "text/x-python",
   "name": "python",
   "nbconvert_exporter": "python",
   "pygments_lexer": "ipython3",
   "version": "3.12.7"
  }
 },
 "nbformat": 4,
 "nbformat_minor": 5
}
